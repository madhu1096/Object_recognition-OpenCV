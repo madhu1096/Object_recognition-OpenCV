{
  "nbformat": 4,
  "nbformat_minor": 0,
  "metadata": {
    "colab": {
      "name": "Untitled4.ipynb",
      "provenance": [],
      "collapsed_sections": [],
      "mount_file_id": "1rAp3fb_8eNoDWnFK3kp02Xzg7BE6G5IC",
      "authorship_tag": "ABX9TyMZ9SwrctyfOTsZxrLhUI5e",
      "include_colab_link": true
    },
    "kernelspec": {
      "name": "python3",
      "display_name": "Python 3"
    },
    "accelerator": "GPU"
  },
  "cells": [
    {
      "cell_type": "markdown",
      "metadata": {
        "id": "view-in-github",
        "colab_type": "text"
      },
      "source": [
        "<a href=\"https://colab.research.google.com/github/madhu1096/Object_recognition-OpenCV/blob/master/face-matching.ipynb\" target=\"_parent\"><img src=\"https://colab.research.google.com/assets/colab-badge.svg\" alt=\"Open In Colab\"/></a>"
      ]
    },
    {
      "cell_type": "code",
      "metadata": {
        "id": "4WVw65p3Kk3X",
        "colab_type": "code",
        "colab": {}
      },
      "source": [
        "!pip install matplotlib\n",
        "!pip install keras\n",
        "!pip install mtcnn\n",
        "!pip install keras_vggface\n",
        "!pip install keras_applications\n"
      ],
      "execution_count": null,
      "outputs": []
    },
    {
      "cell_type": "code",
      "metadata": {
        "id": "LVyzglrmK6N5",
        "colab_type": "code",
        "colab": {}
      },
      "source": [
        "import urllib.request\n",
        "\n",
        "def store_image(url, local_file_name):\n",
        "  with urllib.request.urlopen(url) as resource:\n",
        "    with open(local_file_name, 'wb') as f:\n",
        "      f.write(resource.read())"
      ],
      "execution_count": null,
      "outputs": []
    },
    {
      "cell_type": "code",
      "metadata": {
        "id": "lS3ksk_0LLZz",
        "colab_type": "code",
        "colab": {}
      },
      "source": [
        "store_image('https://ichef.bbci.co.uk/news/320/cpsprodpb/5944/production/_107725822_55fd57ad-c509-4335-a7d2-bcc86e32be72.jpg',\n",
        "            'iacocca_1.jpg')\n",
        "store_image('https://www.gannett-cdn.com/presto/2019/07/03/PDTN/205798e7-9555-4245-99e1-fd300c50ce85-AP_080910055617.jpg?width=540&height=&fit=bounds&auto=webp',\n",
        "            'iacocca_2.jpg')"
      ],
      "execution_count": null,
      "outputs": []
    },
    {
      "cell_type": "code",
      "metadata": {
        "id": "iszQbPq7LNmA",
        "colab_type": "code",
        "colab": {}
      },
      "source": [
        "from matplotlib import pyplot as plt\n",
        "from mtcnn.mtcnn import MTCNN\n",
        "from numpy import asarray\n",
        "from PIL import Image\n",
        "from keras_vggface.utils import preprocess_input\n",
        "from keras_vggface.vggface import VGGFace\n",
        "from scipy.spatial.distance import cosine"
      ],
      "execution_count": null,
      "outputs": []
    },
    {
      "cell_type": "code",
      "metadata": {
        "id": "U2A7MGWlMBZn",
        "colab_type": "code",
        "colab": {}
      },
      "source": [
        "def extract_face_from_image(image_path, required_size=(224, 224)):\n",
        "  # load image and detect faces\n",
        "    image = plt.imread(image_path)\n",
        "    detector = MTCNN()\n",
        "    faces = detector.detect_faces(image)\n",
        "\n",
        "    face_images = []\n",
        "\n",
        "    for face in faces:\n",
        "        # extract the bounding box from the requested face\n",
        "        x1, y1, width, height = face['box']\n",
        "        x2, y2 = x1 + width, y1 + height\n",
        "\n",
        "        # extract the face\n",
        "        face_boundary = image[y1:y2, x1:x2]\n",
        "\n",
        "        # resize pixels to the model size\n",
        "        face_image = Image.fromarray(face_boundary)\n",
        "        face_image = face_image.resize(required_size)\n",
        "        face_array = asarray(face_image)\n",
        "        face_images.append(face_array)\n",
        "    return face_images\n"
      ],
      "execution_count": null,
      "outputs": []
    },
    {
      "cell_type": "code",
      "metadata": {
        "id": "lvAI6SotMuUR",
        "colab_type": "code",
        "colab": {}
      },
      "source": [
        "def get_model_scores(faces):\n",
        "    samples = asarray(faces, 'float32')\n",
        "\n",
        "    # prepare the data for the model\n",
        "    samples = preprocess_input(samples, version=1)\n",
        "\n",
        "    # create a vggface model object\n",
        "    model = VGGFace(model='resnet50',\n",
        "      include_top=False,\n",
        "      input_shape=(224, 224, 3),\n",
        "      pooling='avg')\n",
        "\n",
        "    # perform prediction\n",
        "    return model.predict(samples)\n",
        "\n",
        "\n",
        "faces = [extract_face_from_image(image_path)\n",
        "         for image_path in ['/content/iacocca_2.jpg',\n",
        "                            '/content/drive/My Drive/my piuc.JPG']]\n",
        "model_scores=[]\n",
        "model_scores.append(get_model_scores(faces[0]))\n",
        "model_scores.append(get_model_scores(faces[1]))\n",
        "if cosine(model_scores[0], model_scores[1]) <= 0.5:\n",
        "  print(\"Faces Matched\")\n",
        "else:\n",
        "  print('not')\n",
        "\n",
        "print(cosine(model_scores[0], model_scores[1]))"
      ],
      "execution_count": null,
      "outputs": []
    },
    {
      "cell_type": "code",
      "metadata": {
        "id": "X0UQ5Z_4PEpK",
        "colab_type": "code",
        "colab": {
          "base_uri": "https://localhost:8080/",
          "height": 88
        },
        "outputId": "2371d8b5-f722-41ab-b9a3-e14c2c29eef6"
      },
      "source": [
        "model_scores=[]\n",
        "model_scores.append(get_model_scores(faces[0]))\n",
        "model_scores.append(get_model_scores(faces[1]))\n",
        "if cosine(model_scores[0], model_scores[1]) <= 0.5:\n",
        "  print(\"Faces Matched\")\n",
        "else:\n",
        "  print('not')\n",
        "\n",
        "print(cosine(model_scores[0], model_scores[1]))"
      ],
      "execution_count": null,
      "outputs": [
        {
          "output_type": "stream",
          "text": [
            "WARNING:tensorflow:5 out of the last 13 calls to <function Model.make_predict_function.<locals>.predict_function at 0x7f3018ea4048> triggered tf.function retracing. Tracing is expensive and the excessive number of tracings could be due to (1) creating @tf.function repeatedly in a loop, (2) passing tensors with different shapes, (3) passing Python objects instead of tensors. For (1), please define your @tf.function outside of the loop. For (2), @tf.function has experimental_relax_shapes=True option that relaxes argument shapes that can avoid unnecessary retracing. For (3), please refer to https://www.tensorflow.org/tutorials/customization/performance#python_or_tensor_args and https://www.tensorflow.org/api_docs/python/tf/function for  more details.\n",
            "not\n",
            "0.8825885877013206\n"
          ],
          "name": "stdout"
        }
      ]
    },
    {
      "cell_type": "code",
      "metadata": {
        "id": "RYF8SvaOD2qZ",
        "colab_type": "code",
        "colab": {}
      },
      "source": [
        "plt.show(faces)"
      ],
      "execution_count": null,
      "outputs": []
    },
    {
      "cell_type": "code",
      "metadata": {
        "id": "DQy1vNTDUF06",
        "colab_type": "code",
        "colab": {}
      },
      "source": [
        "print(model_scores[0])\n",
        "print(model_scores[1])"
      ],
      "execution_count": null,
      "outputs": []
    }
  ]
}